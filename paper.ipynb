{
 "cells": [
  {
   "cell_type": "code",
   "execution_count": 1,
   "metadata": {},
   "outputs": [],
   "source": [
    "import random"
   ]
  },
  {
   "cell_type": "code",
   "execution_count": null,
   "metadata": {},
   "outputs": [],
   "source": [
    "\n"
   ]
  },
  {
   "cell_type": "code",
   "execution_count": null,
   "metadata": {},
   "outputs": [
    {
     "data": {
      "text/plain": [
       "'s'"
      ]
     },
     "execution_count": 9,
     "metadata": {},
     "output_type": "execute_result"
    }
   ],
   "source": []
  },
  {
   "cell_type": "code",
   "execution_count": 2,
   "metadata": {},
   "outputs": [
    {
     "name": "stdout",
     "output_type": "stream",
     "text": [
      "\n",
      "p\n",
      "your choice not found try again\n",
      "r\n",
      "p\n",
      "s\n",
      "s\n",
      "s\n",
      "s\n",
      "p\n",
      "r\n",
      "user win\n"
     ]
    }
   ],
   "source": [
    "num_try=5\n",
    "comp_wins=[]\n",
    "user_wins=[]\n",
    "while True:\n",
    "    \n",
    "    \n",
    "    user=input(\"entre your choice from r or p or s\").strip().lower()\n",
    "    print(user)\n",
    "    mylist=[\"r\",\"p\",\"s\"]\n",
    "    computer=random.choice(mylist)\n",
    "    print(computer)\n",
    "    if  user not in mylist:\n",
    "            print(\"your choice not found try again\")\n",
    "            user=input(\"entre your choice from r or p or s\").strip().lower()\n",
    "            print(user)\n",
    "            computer=random.choice(mylist)\n",
    "            print(computer)\n",
    "            \n",
    "\n",
    "    \n",
    "    elif user ==\"r\" and computer ==\"p\" :\n",
    "        print(\"computer win\") \n",
    "        comp_wins.append(\"win\")\n",
    "    elif user==\"s\" and computer == \"p\" :\n",
    "        print(\"computer win\") \n",
    "        comp_wins.append(\"win\")\n",
    "    elif user ==\"p\" and computer ==\"s\": \n",
    "            print(\"computer win\") \n",
    "            comp_wins.append(\"win\")\n",
    "    elif user ==\"p\" and computer ==\"r\" :\n",
    "        print(\"user win\")\n",
    "        user_wins.append(\"win\")\n",
    "    elif user == \"r\" and computer==\"s\" :\n",
    "            print(\"user win\")\n",
    "            user_wins.append(\"win\")\n",
    "    elif user ==\"s\" and computer ==\"p\" :\n",
    "            print(\"user win\")\n",
    "            user_wins.append(\"win\")\n",
    "            num_try-=1\n",
    "    \n",
    "    else:\n",
    "            if len(user_wins)==3:\n",
    "                print(f\"congratulation user {len(user_wins)}\")\n",
    "            elif len(comp_wins)==3:\n",
    "                print(f\"congratulation computer {len(comp_wins)}\")\n",
    "\n",
    "        \n",
    "            if num_try == 0:\n",
    "                print(\"game finish\")\n",
    "                break    \n",
    "        \n"
   ]
  },
  {
   "cell_type": "code",
   "execution_count": null,
   "metadata": {},
   "outputs": [],
   "source": []
  }
 ],
 "metadata": {
  "kernelspec": {
   "display_name": "Python 3.9.12 ('base')",
   "language": "python",
   "name": "python3"
  },
  "language_info": {
   "codemirror_mode": {
    "name": "ipython",
    "version": 3
   },
   "file_extension": ".py",
   "mimetype": "text/x-python",
   "name": "python",
   "nbconvert_exporter": "python",
   "pygments_lexer": "ipython3",
   "version": "3.9.12"
  },
  "orig_nbformat": 4,
  "vscode": {
   "interpreter": {
    "hash": "b891381ddc687a90546da4e2d56168e3245b96ff0176b4dbf77e52798576058a"
   }
  }
 },
 "nbformat": 4,
 "nbformat_minor": 2
}
